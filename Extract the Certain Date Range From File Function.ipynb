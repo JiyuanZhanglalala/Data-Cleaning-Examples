{
 "cells": [
  {
   "cell_type": "code",
   "execution_count": 2,
   "metadata": {},
   "outputs": [],
   "source": [
    "import pandas as pd\n",
    "from datetime import datetime"
   ]
  },
  {
   "cell_type": "code",
   "execution_count": 3,
   "metadata": {},
   "outputs": [],
   "source": [
    "file=pd.read_csv(\"File.csv\")"
   ]
  },
  {
   "cell_type": "code",
   "execution_count": 20,
   "metadata": {},
   "outputs": [],
   "source": [
    "def extract(Original_Clean_File,Year1,Month1,Day1,Year2,Month2,Day2):\n",
    "    import pandas as pd \n",
    "    from datetime import datetime\n",
    "    if file.dtypes['Appt Dt']!='<M8[ns]': # check the data type of 'Appt Dt'\n",
    "        Original_Clean_File['Appt Dt']=[datetime.strptime(x, '%Y-%m-%d') for x in Original_Clean_File['Appt Dt']] #change all date to this date format\n",
    "    StartDate=pd.Timestamp(Year1,Month1,Day1)\n",
    "    Enddate=pd.Timestamp(Year2,Month2,Day2)\n",
    "    Original_Clean_File=Original_Clean_File.loc[Original_Clean_File['Appt Dt'].between(StartDate,Enddate)]\n",
    "    Original_Clean_File.to_excel(str(Month1) + '_' + str(Day1) + '_' + str(Year1) +' to '+ str(Month2) +'_' +str(Day2) +'_' + str(Year2)+ \" Clean_MasterFile.xlsx\",index=False)\n",
    "    return Original_Clean_File"
   ]
  },
  {
   "cell_type": "code",
   "execution_count": 21,
   "metadata": {},
   "outputs": [],
   "source": [
    "output=extract(file,2019,1,1,2020,9,30)"
   ]
  },
  {
   "cell_type": "code",
   "execution_count": null,
   "metadata": {},
   "outputs": [],
   "source": []
  }
 ],
 "metadata": {
  "kernelspec": {
   "display_name": "Python 3",
   "language": "python",
   "name": "python3"
  },
  "language_info": {
   "codemirror_mode": {
    "name": "ipython",
    "version": 3
   },
   "file_extension": ".py",
   "mimetype": "text/x-python",
   "name": "python",
   "nbconvert_exporter": "python",
   "pygments_lexer": "ipython3",
   "version": "3.7.4"
  },
  "toc": {
   "base_numbering": 1,
   "nav_menu": {},
   "number_sections": true,
   "sideBar": true,
   "skip_h1_title": false,
   "title_cell": "Table of Contents",
   "title_sidebar": "Contents",
   "toc_cell": false,
   "toc_position": {},
   "toc_section_display": true,
   "toc_window_display": false
  }
 },
 "nbformat": 4,
 "nbformat_minor": 4
}
